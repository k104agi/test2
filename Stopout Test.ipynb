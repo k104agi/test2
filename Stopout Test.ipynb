{
 "cells": [
  {
   "cell_type": "markdown",
   "metadata": {},
   "source": [
    "# 1번 문제\n",
    "\n",
    "다음 리스트를 사용해 아래와 같은 문자열을 만들어 `girlsday_info`변수에 할당한 후, 콘솔에 내용을 출력하시오. [5점]\n",
    "\n",
    "리스트\n",
    "\n",
    "```python\n",
    "girlsday_members = ['민아', '혜리', '유라', '소진']\n",
    "```\n",
    "\n",
    "결과 문자열\n",
    "\n",
    "```\n",
    "- 민아\n",
    "- 혜리\n",
    "- 유라\n",
    "- 소진\n",
    "```"
   ]
  },
  {
   "cell_type": "code",
   "execution_count": 1,
   "metadata": {},
   "outputs": [
    {
     "name": "stdout",
     "output_type": "stream",
     "text": [
      "- 민아\n",
      "- 혜리\n",
      "- 유라\n",
      "- 소진\n",
      "\n"
     ]
    }
   ],
   "source": [
    "girlsday_members = ['민아', '혜리', '유라', '소진']\n",
    "\n",
    "#girlsday_info 변수에 문자열을 할당\n",
    "#리스트를 문자열로 변환하라는 얘기\n",
    "#join() 메서드, for in 순환문 활용\n",
    "girlsday_info = ''.join(f'- {member}\\n'for member in girlsday_members)\n",
    "\n",
    "print(girlsday_info)"
   ]
  },
  {
   "cell_type": "markdown",
   "metadata": {},
   "source": [
    "# 2번 문제  \n",
    "`fruit_dict`객체를 사용해서 아래와 같은 결과값을 갖는 문자열을 만들어 `fruit_info`변수에 할당 한 후, 콘솔에 내용을 출력하시오. [10점]\n",
    "\n",
    "- index 미출력시: -2\n",
    "- 키의 대문자화 미구현시: -2\n",
    "- 값의 첫 번째 글자 대문자화 미구현시: -2\n",
    "\n",
    "```\n",
    "fruit_dict = {\n",
    "    'red': 'apple',\n",
    "    'yellow': 'banana',\n",
    "    'green': 'melon',\n",
    "}\n",
    "```"
   ]
  },
  {
   "cell_type": "code",
   "execution_count": 2,
   "metadata": {},
   "outputs": [
    {
     "name": "stdout",
     "output_type": "stream",
     "text": [
      "[0] RED: Apple\n",
      "[1] YELLOW: Banana\n",
      "[2] GREEN: Melon\n"
     ]
    }
   ],
   "source": [
    "fruit_dict = {\n",
    "    'red':'apple',\n",
    "    'yellow':'banana',\n",
    "    'green': 'melon',\n",
    "}\n",
    "\n",
    "#enumerate를 활용해서 인덱스값 같이 뽑아내기\n",
    "\n",
    "# for i, item in enumerate(fruit_dict.items()):\n",
    "#     print(f'[{i}]{item}')\n",
    "    \n",
    "#()제거하고 대문자화 필요\n",
    "\n",
    "# .upper()는 전체 대문자화\n",
    "# .capitalize()는 첫머리만 대문자화\n",
    "for i, a in enumerate(fruit_dict.keys()):\n",
    "    b = fruit_dict[a]\n",
    "    print('[{}] {}: {}'.format(\n",
    "         i,\n",
    "         a.upper(),\n",
    "         b.capitalize()))"
   ]
  },
  {
   "cell_type": "markdown",
   "metadata": {},
   "source": [
    "# 3번 문제 \n",
    "\n",
    "list의 `copy()`메서드가 하는 일과, `copy()`를 사용하지 않았을 때 발생할 수 있는 오류에 대한 예제 코드를 작성하시오. [10점]\n",
    "\n",
    "- `copy()`메서드의 설명이 틀렸을 경우: -4"
   ]
  },
  {
   "cell_type": "code",
   "execution_count": 3,
   "metadata": {},
   "outputs": [
    {
     "data": {
      "text/plain": [
       "False"
      ]
     },
     "execution_count": 3,
     "metadata": {},
     "output_type": "execute_result"
    }
   ],
   "source": [
    "'''\n",
    "copy() 메서드를 쓰면 원래 리스트와 같은 값을 복사한다.\n",
    "내용은 같아지지만, 컴퓨터 내부 정보에서 같은 영역을 참조하지 않고 새로 만든 다른 영역을 참조한다.\n",
    "\n",
    "a = b 식으로 다른 변수에 할당하는 것과 좀 다르다.\n",
    "a = b 식으로 할당하면, 실제로는 참조해서 전달하므로 같은 공간에 위치한 데이터를 가리킨다.\n",
    "즉 복사하는 게 아니라 원래 위치만 똑같이 가리키는 것이다. \n",
    "copy()말고 할당식으로 참조하게 만들면, 원래 a값이 바뀔 경우 b도 같이 바뀐다.\n",
    "\n",
    "copy()를 사용하지 않으면 발생하는 오류는 다음과 같다.\n",
    "'''\n",
    "\n",
    "# 경우 1\n",
    "a = ['w1', 'w2', 'w3'] \n",
    "\n",
    "b = a.copy()\n",
    "\n",
    "b is a \n",
    "\n",
    "#False로 나옴 (내용을 복사해서 새로운 객체를 만들었기 때문)"
   ]
  },
  {
   "cell_type": "code",
   "execution_count": 4,
   "metadata": {},
   "outputs": [
    {
     "data": {
      "text/plain": [
       "True"
      ]
     },
     "execution_count": 4,
     "metadata": {},
     "output_type": "execute_result"
    }
   ],
   "source": [
    "# 경우 2\n",
    "a = ['w1', 'w2', 'w3'] \n",
    "\n",
    "b = a \n",
    "\n",
    "b is a \n",
    "\n",
    "#True (새로운 객체를 만든 게 아니라 같은 공간을 참조하기 때문)"
   ]
  },
  {
   "cell_type": "markdown",
   "metadata": {},
   "source": [
    "# 4번 문제\n",
    "\n",
    "1에서 30까지의 숫자 중, 3부터 시작해서 4번째마다의 숫자를 가지는 리스트를 생성하시오. [5점]\n",
    "\n",
    "- 기본점수: 3점\n",
    "- `range`를 사용한 경우: +2\n",
    "\n",
    "결과\n",
    "\n",
    "```\n",
    "[3, 7, 11, 15, 19, 23, 27]\n",
    "```"
   ]
  },
  {
   "cell_type": "code",
   "execution_count": 5,
   "metadata": {},
   "outputs": [
    {
     "name": "stdout",
     "output_type": "stream",
     "text": [
      "3\n",
      "7\n",
      "11\n",
      "15\n",
      "19\n",
      "23\n",
      "27\n"
     ]
    }
   ],
   "source": [
    "for x in range(3, 30, 4): #시작은 3, 끝이 30, 4단위씩 점프\n",
    "    print(x)"
   ]
  },
  {
   "cell_type": "markdown",
   "metadata": {},
   "source": [
    "# 5번 문제\n",
    "\n",
    "dict형 객체인 `obj`가 있다고 할 때, `obj['key']`와 `obj.get('key')`의 차이를 서술하시오. [5점]"
   ]
  },
  {
   "cell_type": "code",
   "execution_count": 6,
   "metadata": {},
   "outputs": [
    {
     "ename": "KeyError",
     "evalue": "'c'",
     "output_type": "error",
     "traceback": [
      "\u001b[0;31m---------------------------------------------------------------------------\u001b[0m",
      "\u001b[0;31mKeyError\u001b[0m                                  Traceback (most recent call last)",
      "\u001b[0;32m<ipython-input-6-b375e874b813>\u001b[0m in \u001b[0;36m<module>\u001b[0;34m()\u001b[0m\n\u001b[1;32m      5\u001b[0m \u001b[0mobj\u001b[0m \u001b[0;34m=\u001b[0m \u001b[0;34m{\u001b[0m\u001b[0;34m'a'\u001b[0m\u001b[0;34m:\u001b[0m\u001b[0;34m'모음1'\u001b[0m\u001b[0;34m,\u001b[0m \u001b[0;34m'b'\u001b[0m\u001b[0;34m:\u001b[0m\u001b[0;34m'모음2'\u001b[0m\u001b[0;34m}\u001b[0m\u001b[0;34m\u001b[0m\u001b[0m\n\u001b[1;32m      6\u001b[0m \u001b[0;34m\u001b[0m\u001b[0m\n\u001b[0;32m----> 7\u001b[0;31m \u001b[0mobj\u001b[0m\u001b[0;34m[\u001b[0m\u001b[0;34m'c'\u001b[0m\u001b[0;34m]\u001b[0m\u001b[0;34m\u001b[0m\u001b[0m\n\u001b[0m\u001b[1;32m      8\u001b[0m \u001b[0;34m\u001b[0m\u001b[0m\n\u001b[1;32m      9\u001b[0m \u001b[0mobj\u001b[0m\u001b[0;34m.\u001b[0m\u001b[0mget\u001b[0m\u001b[0;34m(\u001b[0m\u001b[0;34m'c'\u001b[0m\u001b[0;34m)\u001b[0m\u001b[0;34m\u001b[0m\u001b[0m\n",
      "\u001b[0;31mKeyError\u001b[0m: 'c'"
     ]
    }
   ],
   "source": [
    "#obj['key']는 dict에 key가 없으면 KeyError를 낸다.\n",
    "#obj.get('key')는 없는 key를 가져오려 하면 None을 리턴한다. \n",
    "#따라서 KeyError가 나지 않는다.\n",
    "\n",
    "obj = {'a':'모음1', 'b':'모음2'}\n",
    "\n",
    "obj['c']\n",
    "\n",
    "obj.get('c')"
   ]
  },
  {
   "cell_type": "markdown",
   "metadata": {},
   "source": [
    "# 6번 문제 \n",
    "\n",
    "튜플 언패킹에 대해 서술하고, `pokemon_info` 객체를 순회할 때 튜플 언패킹을 사용하는 예제 코드를 작성하시오. [10점]\n",
    "\n",
    "- 틀린서술: -3\n",
    "- 예제코드 미작성: -7\n",
    "\n",
    "```\n",
    "pokemon_info = [\n",
    "    ('피카츄', '전기 타입'),\n",
    "    ('파이리', '불 타입'),\n",
    "    ('꼬부기', '물 타입'),\n",
    "    ('이상해씨', '풀 타입'),\n",
    "]\n",
    "```"
   ]
  },
  {
   "cell_type": "code",
   "execution_count": 8,
   "metadata": {},
   "outputs": [
    {
     "name": "stdout",
     "output_type": "stream",
     "text": [
      "피카츄 전기타입\n",
      "파이리 불타입\n",
      "꼬부기 물타입\n",
      "이상해씨 풀타입\n"
     ]
    }
   ],
   "source": [
    "#컬렉션(패킹한 변수)의 원소를 여러 변수에 나눠 담는 것을 \n",
    "#언패킹(unpacking, 풀기) 또는 구조분해(destructuring)라고 부른다.\n",
    "\n",
    "pokemon_info = [\n",
    "    ('피카츄', '전기타입'),\n",
    "    ('파이리', '불타입'),\n",
    "    ('꼬부기', '물타입'),\n",
    "    ('이상해씨', '풀타입'),\n",
    "]\n",
    "\n",
    "#패킹된 튜플 내용을 풀어서 name에 포켓몬 이름, pokemon_type에 타입을 넣음 \n",
    "for name, pokemon_type in pokemon_info:\n",
    "    print(name, pokemon_type)"
   ]
  },
  {
   "cell_type": "markdown",
   "metadata": {},
   "source": [
    "# 7번 문제\n",
    "\n",
    "함수에서 위치인자와 키워드인자의 차이점에 대해 서술하시오. [5점]"
   ]
  },
  {
   "cell_type": "code",
   "execution_count": null,
   "metadata": {},
   "outputs": [],
   "source": [
    "'''\n",
    "\n",
    "함수는 매개변수를 받을때, 위치인자와 키워드인자를 받을 수 있다.\n",
    "\n",
    "위치인자는 받는 매개변수를 그 순서대로 해당 자리에 전달한다.\n",
    "즉, 함수가 미리 정의해놓은 위치에 그대로 앞부터 변수를 전달한다.\n",
    "\n",
    "키워드인자는 해당 키워드를 명시하면 앞에 쓰든 뒤에 쓰든 해당되는 자리에 전달한다.\n",
    "따라서 키워드인자를 사용하면 함수가 인자를 받는 순서에 상관없이 변수를 전달한다.\n",
    "\n",
    "'''"
   ]
  },
  {
   "cell_type": "markdown",
   "metadata": {},
   "source": [
    "# 8번 문제\n",
    "\n",
    "클래스와 인스턴스의 다음 사항들에 대해 서술하시오.\n",
    "\n",
    "- 클래스와 인스턴스의 차이점 [2점]\n",
    "- 클래스의 생성자 함수 이름 [1점]\n",
    "- 클래스의 생성자 함수가 호출되는 시점은? [2점]\n",
    "- 인스턴스 메서드의 `self`매개변수의 의미 [4점]\n"
   ]
  },
  {
   "cell_type": "code",
   "execution_count": null,
   "metadata": {},
   "outputs": [],
   "source": [
    "'''\n",
    "1. 클래스와 인스턴스의 차이점 \n",
    "\n",
    "클래스는 붕어빵을 찍어내는 틀이다. 인스턴스는 그 틀로 만든 결과물이다.\n",
    "즉 클래스는 생성 함수로 메서드를 활용해 구체적인 객체(인스턴스)를 만든다.\n",
    "따라서 클래스와 인스턴스는 다르다.\n",
    "\n",
    "\n",
    "\n",
    "2. 클래스의 생성자 함수 이름\n",
    "\n",
    "관례적으로 클래스 생성자 함수명은 대문자로 만든다.\n",
    "class Human:\n",
    "    def __init__(self, age):\n",
    "        self.__age = age\n",
    "\n",
    "\n",
    "\n",
    "3. 클래스의 생성자 함수가 호출되는 시점은?\n",
    "\n",
    "instance = Class()식으로 새로 만들어줄 때 호출한다. \n",
    "ex) Bob = Human('Male', 25)\n",
    "    \n",
    "    \n",
    "    \n",
    "4. 인스턴스 메서드의 `self`매개변수의 의미\n",
    "\n",
    "인스턴스 내부에서 self.xx처럼 self로 attribute를 설정하면, \n",
    "인스턴스 생성시 클래스가 아니라 해당 인스턴스를 기본으로 참조한다.\n",
    "예를 들어 Bob = Human('Male', 25)로 Human 클래스 객체를 생성하면\n",
    "Bob이라는 인스턴스에 Male과 25가 할당된다.\n",
    "'''"
   ]
  },
  {
   "cell_type": "markdown",
   "metadata": {},
   "source": [
    "# 9번 문제\n",
    "\n",
    "`property`를 정의하는 방법에 대해 서술하시오. [5점]\n",
    "\n",
    "- `getter`를 만드는 방법에 대해 서술: 2점\n",
    "- `setter`를 만드는 방법에 대해 서술: 3점"
   ]
  },
  {
   "cell_type": "code",
   "execution_count": null,
   "metadata": {},
   "outputs": [],
   "source": [
    "'''\n",
    "\n",
    "1) 클래스를 생성한다.\n",
    "\n",
    "2) 클래스에 속한 함수 위에 @property를 붙인다. \n",
    "   해당 인스턴스명 앞에 __ 또는 _를 붙인다.\n",
    "\n",
    "3) setter는 해당 함수 위에 @함수명.setter를 붙여 만든다. \n",
    "   setter를 만들지 않으면 외부에서 접근할 수 없다.\n",
    "   \n",
    "'''\n",
    "\n",
    "\n",
    "#예시\n",
    "\n",
    "class ColorMaking:\n",
    "\n",
    "    def __init__(self):\n",
    "        self.__color = \"black\"\n",
    "\n",
    "    @property\n",
    "    def color(self):\n",
    "        return self.__color\n",
    "\n",
    "    @color.setter\n",
    "    def color(self, color):\n",
    "        self.__color = color"
   ]
  },
  {
   "cell_type": "markdown",
   "metadata": {},
   "source": [
    "# 10번 문제\n",
    "\n",
    "아래와 같은 `User`클래스가 있다. 이 클래스를 상속받은 `Student`클래스를 정의하고, 초기화 메서드에서 `name`과 함께`age`라는 매개변수를 추가로 사용해 인스턴스의 `age`속성을 추가로 정의하도록 한다. [10점]\n",
    "\n",
    "- (기본구현) User클래스를 상속: 1\n",
    "- 초기화 메서드 재정의: +3\n",
    "- 초기화 메서드에서 `super`사용: +6\n",
    "\n",
    "```\n",
    "class User:\n",
    "    def __init__(self, name):\n",
    "        self.name = name\n",
    "```"
   ]
  },
  {
   "cell_type": "code",
   "execution_count": null,
   "metadata": {},
   "outputs": [],
   "source": [
    "class User:\n",
    "    def __init__(self, name):\n",
    "        self.name = name\n",
    "\n",
    "#클래스명 옆에 (상속클래스명)을 써서 상속\n",
    "class Student(User):\n",
    "    def __init__(self, name, age):\n",
    "        super().__init__(name)\n",
    "        self.age = age\n",
    "#super().함수명(인자)로 그대로 가져옴\n",
    "#새로운 인자는 그대로 추가"
   ]
  },
  {
   "cell_type": "markdown",
   "metadata": {},
   "source": [
    "# 11번 문제\n",
    "\n",
    "`url`주소로부터 아래 결과를 출력한다. [10점]\n",
    "\n",
    "> 공지사항이 추가되면 결과는 달라질 수 있으므로, 실제 게시판의 목록이 출력되는지 확인\n",
    "> \n",
    "> top이라는 텍스트는 포함되어도 무관\n",
    "\n",
    "```\n",
    "url = 'http://www.leagueoflegends.co.kr/?m=news&cate=notice'\n",
    "```\n",
    "\n",
    "결과 출력\n",
    "\n",
    "```\n",
    "top[#2] 격전을 준비하세요! (수정)\n",
    "top격전 참여시 불건전 행위에 대한 주의사항 안내(수정)\n",
    "6월 6일(수) 서버 점검 안내\n",
    "PBE 인사이드 20화(8.12 패치 편) 방송 안내\n",
    "다시 돌아온 격전! 얼불져스 6/5(화) 방송 일정 안내\n",
    "1일 격전 테스트에 참여해 주세요\n",
    "대리 게임 등 적발 현황 262차 안내\n",
    "부정행위 프로그램 제재 현황 안내\n",
    "MadLife와 함께하는 입롤의 신 - 파이크편\n",
    "무작위 총력전 샤코 챔피언 비활성화 안내 (정상화)\n",
    "얼불져스 성적 예측 이벤트 당첨자 안내\n",
    "수수께끼 피규어(시리즈 2) 할인 판매!\n",
    "```"
   ]
  },
  {
   "cell_type": "code",
   "execution_count": 16,
   "metadata": {},
   "outputs": [
    {
     "name": "stdout",
     "output_type": "stream",
     "text": [
      "대리 게임 등 적발 현황 264차 안내\n",
      "\n",
      "부정행위 프로그램 제재 현황 안내\n",
      "\n",
      "입롤의 신 - 파이크편 감상평 이벤트 당첨자 안내\n",
      "\n",
      "6월 15일 (금) Toss 결제 서비스 점검 안내\n",
      "\n",
      "인형 30% 할인 프로모션\n",
      "\n",
      "6월 13일(수) 서버 점검 및 업데이트 안내 (완료)\n",
      "\n",
      "대리 게임 등 적발 현황 263차 안내\n",
      "\n",
      "부정행위 프로그램 제재 현황 안내\n",
      "\n",
      "6월 2차 소환사 문화재지킴이 모집 안내\n",
      "\n",
      "일부 클라이언트 오류 현상에 대한 안내 (정상화)\n",
      "\n"
     ]
    }
   ],
   "source": [
    "import os\n",
    "import requests\n",
    "from bs4 import BeautifulSoup\n",
    "\n",
    "file_path = 'lol_list.html'\n",
    "url_list = 'http://www.leagueoflegends.co.kr/?m=news&cate=notice'\n",
    "\n",
    "if os.path.exists(file_path):\n",
    "    html = open(file_path, 'rt').read()\n",
    "else:\n",
    "    response = requests.get(url_list)\n",
    "    html = response.text\n",
    "    open(file_path, 'wt').write(html)\n",
    "\n",
    "soup = BeautifulSoup(html, 'lxml')\n",
    "all_title = soup.select('.contents-table .request-list td a')\n",
    "for title in all_title:\n",
    "    print(title.text)\n",
    "    print()"
   ]
  },
  {
   "cell_type": "markdown",
   "metadata": {},
   "source": [
    "# 12번 문제\n",
    "\n",
    "`url`주소에 있는 공지사항에 해당하는 `Notice`클래스를 만들고, 크롤링시 공지사항 하나마다 `Notice`클래스 인스턴스를 만들어 `notice_list`리스트에 추가한다. [10점]\n",
    "\n",
    "`notice_list`를 출력한 결과\n",
    "\n",
    "```\n",
    "for notice in notice_list:\n",
    "\tprint(notice.title)\n",
    "\tprint(notice.date)\n",
    "\tprint(notice.view)\n",
    "\tprint()\n",
    "```\n",
    "\n",
    "결과\n",
    "\n",
    "```\n",
    "top[#2] 격전을 준비하세요! (수정)\n",
    "2018-05-18\n",
    "17,698\n",
    "\n",
    "top격전 참여시 불건전 행위에 대한 주의사항 안내(수정)\n",
    "2018-04-26\n",
    "34,097\n",
    "\n",
    "일부 클라이언트 오류 현상에 대한 안내\n",
    "2018-06-06\n",
    "4,928\n",
    "\n",
    "6월 6일(수) 서버 점검 안내 (완료)\n",
    "2018-06-05\n",
    "38,061\n",
    "\n",
    "PBE 인사이드 20화(8.12 패치 편) 방송 안내\n",
    "2018-06-04\n",
    "7,819\n",
    "\n",
    "다시 돌아온 격전! 얼불져스 6/5(화) 방송 일정 안내\n",
    "2018-06-03\n",
    "13,906\n",
    "...\n",
    "...\n",
    "...\n",
    "```"
   ]
  },
  {
   "cell_type": "code",
   "execution_count": 15,
   "metadata": {},
   "outputs": [
    {
     "name": "stdout",
     "output_type": "stream",
     "text": [
      "대리 게임 등 적발 현황 264차 안내\n",
      "2018-06-15\n",
      "5,068\n",
      "\n",
      "부정행위 프로그램 제재 현황 안내\n",
      "2018-06-15\n",
      "1,680\n",
      "\n",
      "입롤의 신 - 파이크편 감상평 이벤트 당첨자 안내\n",
      "2018-06-14\n",
      "2,142\n",
      "\n",
      "6월 15일 (금) Toss 결제 서비스 점검 안내\n",
      "2018-06-14\n",
      "1,039\n",
      "\n",
      "인형 30% 할인 프로모션\n",
      "2018-06-13\n",
      "9,140\n",
      "\n",
      "6월 13일(수) 서버 점검 및 업데이트 안내 (완료)\n",
      "2018-06-12\n",
      "24,635\n",
      "\n",
      "대리 게임 등 적발 현황 263차 안내\n",
      "2018-06-08\n",
      "7,032\n",
      "\n",
      "부정행위 프로그램 제재 현황 안내\n",
      "2018-06-08\n",
      "2,864\n",
      "\n",
      "6월 2차 소환사 문화재지킴이 모집 안내\n",
      "2018-06-08\n",
      "4,059\n",
      "\n",
      "일부 클라이언트 오류 현상에 대한 안내 (정상화)\n",
      "2018-06-06\n",
      "10,591\n",
      "\n"
     ]
    }
   ],
   "source": [
    "import os\n",
    "import requests\n",
    "from bs4 import BeautifulSoup\n",
    "\n",
    "class Notice:\n",
    "    def __init__(self, title, date, view):\n",
    "        self.title = title\n",
    "        self.date = date\n",
    "        self.view = view\n",
    "        \n",
    "url_list = 'http://www.leagueoflegends.co.kr/?m=news&cate=notice'\n",
    "response = requests.get(url_list)\n",
    "html = response.text\n",
    "\n",
    "soup = BeautifulSoup(html, 'lxml')\n",
    "all_info = soup.select('tbody > tr')\n",
    "\n",
    "# print(all_info)\n",
    "\n",
    "notice_list = list()\n",
    "\n",
    "for get_info in all_info:\n",
    "    title = get_info.select_one('td.tleft > a').text\n",
    "    date = get_info.select_one('td:nth-of-type(2)').text\n",
    "    view = get_info.select_one('td:nth-of-type(3)').text\n",
    "#     print(title)\n",
    "#     print(date)\n",
    "#     print(view)\n",
    "    notice_list.append(Notice(title, date, view))\n",
    "    \n",
    "for result in notice_list:\n",
    "    print(result.title)\n",
    "    print(result.date)\n",
    "    print(result.view)\n",
    "    print()"
   ]
  },
  {
   "cell_type": "markdown",
   "metadata": {},
   "source": [
    "# 13번 문제\n",
    "\n",
    "runserver가 localhost:8000에서 입력을 받는 상태로 동작 중일 때, 브라우저에서 `http://localhost:8000/abc/`URL을 입력하면 어떤 절차를 거쳐 사용자에게 다시 화면을 보여주는지 서술하시오. [10점]"
   ]
  },
  {
   "cell_type": "code",
   "execution_count": null,
   "metadata": {},
   "outputs": [],
   "source": [
    "'''\n",
    "#일반적인 경우\n",
    "\n",
    "브라우저에서(이용자가) url를 가져와달라고 요청한다.\n",
    "이 요청은 서버에 갔다가 되돌아가서 \n",
    "결과를 요청한 브라우저(이용자)에게 구현(render)해준다.\n",
    "\n",
    "\n",
    "\n",
    "#장고의 경우\n",
    "\n",
    "브라우저(이용자)가 URL을 달라고 웹서버에 요청한다.\n",
    "이 요청은 장고로 전달된다.\n",
    "장고 URL resolver는 웹페이지 주소를 가져와 무엇을 할지 확인한다.\n",
    "패턴 모록을 가져와 URL과 맞는지 대조하고 식별한다.\n",
    "이때 장고가 해당 주소로 시작하는 모든 URL을 다 쓸 수 없어 정규표현식을 사용한다.\n",
    "일치하는 패턴이 있으면 장고는 해당 요청을 관련 함수(view)에게 넘긴다.\n",
    "\n",
    "뷰는 모델에서 필요한 정보를 받아와 템플릿에 전달한다.\n",
    "즉 뷰는 전달하는 함수 역할을 한다.\n",
    "def post_list(request):\n",
    "    return render(request, 'blog/post_list.html', {})\n",
    "예를 들어 이런 view 함수가 있다면 이 함수는 요청을 넘겨받아 render메서드를 호출한다.\n",
    "호출해서 받은(return) blog/post_list.html 템플릿을 보여주는 것이다.\n",
    "\n",
    "\n",
    "#localhost의 경우\n",
    "\n",
    "로컬호스트에서는 이 과정이 일반 인터넷보다 더 빠르게 해결된다.\n",
    "'이용자 -> 요청 -> 로컬호스트 -> 결과 -> 구현'으로 훨씬 빠르다. \n",
    "'''"
   ]
  },
  {
   "cell_type": "markdown",
   "metadata": {},
   "source": [
    "# 14번 문제\n",
    "\n",
    "장고의 모델 클래스를 사용해서 학교와 학생을 나타내는 클래스를 설계(app명은 `education`을 사용한다)하고 간단한 학교/학생 목록 출력 페이지를 만든다. [50점]\n",
    "\n",
    "> 1. 이 문제는 Jupyter Notebook이 아닌 PyCharm을 사용해 해결하며, 새로운 가상환경과 저장소를 사용한다. 작업 완료 후 저장소의 URL을 제출하며, `requirements.txt`를 올바르게 작성했는지 꼭 확인한다.\n",
    "> 2. 예제의 점검을 위해 `.gitignore`에서 `db.sqlite3`파일을 제외하여, 커밋에 로컬 DB파일이 포함되도록 한다. \n",
    "> 3. superuser의 username은 `admin`, password는 `admin123`를 사용한다.\n",
    "\n",
    "- 학교(`School`)는 학교명(`name`)과 설명(`description`), 학생(`Student`)은 소속 학교 1개(`school`)와 자신의 이름(`name`), 생성일시(`created_at`)를 가지도록 한다. 생성일시는 현재 날짜와 시각을 자동으로 기록한다. [10점]\n",
    "- 두 모델을 관리자 페이지에서 확인 할 수 있도록 설정하고, 예제를 위해 2개의 학교와 각 학교별로 3명씩의 학생들을 만든다. [5점]\n",
    "- 학교 목록을 보여주는 `school_list` view를 만들고, `/schools/` URL과 연결시킨다. 여기서는 학교명만 보여준다. [5점]\n",
    "- 학교 하나를 자세히 보여주는 `school_detail` view를 만들고, `/schools/<ID값>/` URL과 연결시킨다. 이후, `school_list`에서 이 뷰로의 연결을 `url`태그를 사용해서 구현한다. 여기서는 설명을 함께 보여준다. [5점]\n",
    "- 학생 목록을 보여주는 `student_list` view를 만들고, `/students/` URL과 연결시킨다. 여기서는 이름만 보여준다. [5점]\n",
    "- 학생 하나를 자세히 보여주는 `student_detail` view를 만들고, `/students/<ID값>/` URL과 연결시킨다. 이후, `student_list`에서 이 뷰로의 연결을 `url`태그를 사용해서 구현한다. 여기서는 자신이 속한 학교와 생성일자를 함께 보여준다. [5점]\n",
    "- `school_detail`에서 자신을 `school`필드로 갖는 `Student`목록을 보여준다. [15점]"
   ]
  }
 ],
 "metadata": {
  "kernelspec": {
   "display_name": "Python 3",
   "language": "python",
   "name": "python3"
  },
  "language_info": {
   "codemirror_mode": {
    "name": "ipython",
    "version": 3
   },
   "file_extension": ".py",
   "mimetype": "text/x-python",
   "name": "python",
   "nbconvert_exporter": "python",
   "pygments_lexer": "ipython3",
   "version": "3.6.5"
  }
 },
 "nbformat": 4,
 "nbformat_minor": 2
}
